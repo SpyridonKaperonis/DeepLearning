{
 "cells": [
  {
   "cell_type": "markdown",
   "id": "ebdfc34d",
   "metadata": {},
   "source": [
    "### 1. Test Tensor flow with below python codes in your laptop"
   ]
  },
  {
   "cell_type": "markdown",
   "id": "e5aee506",
   "metadata": {},
   "source": [
    "<br>"
   ]
  },
  {
   "cell_type": "code",
   "execution_count": 171,
   "id": "a70ef0fa",
   "metadata": {
    "scrolled": true
   },
   "outputs": [],
   "source": [
    "\n",
    "import tensorflow.compat.v1 as tf\n",
    "tf.disable_v2_behavior()\n",
    "from keras.layers import Input, Dense\n",
    "from keras.models import Model\n",
    "\n",
    "import matplotlib.pyplot as plt"
   ]
  },
  {
   "cell_type": "code",
   "execution_count": 172,
   "id": "a9b3b6e3",
   "metadata": {},
   "outputs": [
    {
     "name": "stdout",
     "output_type": "stream",
     "text": [
      "42\n"
     ]
    }
   ],
   "source": [
    "x = tf.Variable(3, name=\"x\")\n",
    "y = tf.Variable(4, name=\"y\")\n",
    "f = x*x*y+y+2\n",
    "\n",
    "sess = tf.Session()\n",
    "sess.run(x.initializer)\n",
    "sess.run(y.initializer)\n",
    "result = sess.run(f)\n",
    "print(result)\n",
    "sess.close()"
   ]
  },
  {
   "cell_type": "markdown",
   "id": "5cac028f",
   "metadata": {},
   "source": [
    "<br>"
   ]
  },
  {
   "cell_type": "markdown",
   "id": "bdcf97be",
   "metadata": {},
   "source": [
    "### 2. Test Tensor flow with linear regressions"
   ]
  },
  {
   "cell_type": "code",
   "execution_count": 173,
   "id": "6628f517",
   "metadata": {},
   "outputs": [],
   "source": [
    "import numpy as np\n",
    "from sklearn.datasets import fetch_california_housing\n",
    "housing = fetch_california_housing()"
   ]
  },
  {
   "cell_type": "code",
   "execution_count": 174,
   "id": "fed528b5",
   "metadata": {
    "scrolled": true
   },
   "outputs": [],
   "source": [
    "m, n = housing.data.shape\n",
    "housing_data_plus_bias = np.c_[np.ones((m,1)), housing.data]\n",
    "X = tf.constant(housing_data_plus_bias, dtype=tf.float32, name=\"X\")\n",
    "y = tf.constant(housing.target.reshape(-1,1), dtype=tf.float32, name=\"y\")"
   ]
  },
  {
   "cell_type": "code",
   "execution_count": 175,
   "id": "4c09637c",
   "metadata": {},
   "outputs": [],
   "source": [
    "XT = tf.transpose(X)\n",
    "theta = tf.matmul(tf.matmul(tf.matrix_inverse(tf.matmul(XT,X)), XT), y)\n",
    "with tf.Session() as sess:\n",
    "    theta_value = theta.eval()"
   ]
  },
  {
   "cell_type": "markdown",
   "id": "79344194",
   "metadata": {},
   "source": [
    "<br>"
   ]
  },
  {
   "cell_type": "markdown",
   "id": "e6a1e01b",
   "metadata": {},
   "source": [
    "### 3. Test Tensor flow with MNIST (handwriting) data set"
   ]
  },
  {
   "cell_type": "code",
   "execution_count": 176,
   "id": "034bb805",
   "metadata": {},
   "outputs": [
    {
     "data": {
      "image/png": "[encoded data removed]",
      "text/plain": [
       "<Figure size 432x288 with 4 Axes>"
      ]
     },
     "metadata": {
      "needs_background": "light"
     },
     "output_type": "display_data"
    }
   ],
   "source": [
    "from keras.datasets import mnist\n",
    "import matplotlib.pyplot as plt\n",
    "# load the MNIST dataset:\n",
    "(x_train, y_train), (x_test, y_test) = mnist.load_data()\n",
    "plt.subplot(221)\n",
    "plt.imshow(x_train[0], cmap=plt.get_cmap('gray'))\n",
    "plt.subplot(222)\n",
    "plt.imshow(x_train[1], cmap=plt.get_cmap('gray'))\n",
    "plt.subplot(223)\n",
    "plt.imshow(x_train[2], cmap=plt.get_cmap('gray'))\n",
    "plt.subplot(224)\n",
    "plt.imshow(x_train[3], cmap=plt.get_cmap('gray'))\n",
    "plt.show()"
   ]
  },
  {
   "cell_type": "code",
   "execution_count": 177,
   "id": "fd2046d0",
   "metadata": {},
   "outputs": [],
   "source": [
    "# import libraries\n",
    "from keras.datasets import mnist \n",
    "from keras.models import Sequential\n",
    "from keras.layers import Dense\n",
    "from keras.layers import Dropout\n",
    "from keras.utils import np_utils"
   ]
  },
  {
   "cell_type": "code",
   "execution_count": 178,
   "id": "47bacf5f",
   "metadata": {},
   "outputs": [],
   "source": [
    "# fix random seed for reproducibility\n",
    "seed = 7\n",
    "np.random.seed(seed)"
   ]
  },
  {
   "cell_type": "code",
   "execution_count": 179,
   "id": "f3085c15",
   "metadata": {},
   "outputs": [],
   "source": [
    "# load data \n",
    "(x_train, y_train), (x_test, y_test) = mnist.load_data()\n",
    "\n",
    "# flatten 28*28 images to a 784 vector for each image\n",
    "num_pixels = x_train.shape[1] * x_train.shape[2]\n",
    "x_train = x_train.reshape(x_train.shape[0], num_pixels).astype('float32')\n",
    "x_test = x_test.reshape(x_test.shape[0], num_pixels).astype('float32')"
   ]
  },
  {
   "cell_type": "code",
   "execution_count": 180,
   "id": "8cb15eb5",
   "metadata": {},
   "outputs": [],
   "source": [
    "# normalize inputs from 0-255 to 0-1\n",
    "x_train = x_train / 255\n",
    "x_test = x_test / 255"
   ]
  },
  {
   "cell_type": "code",
   "execution_count": 181,
   "id": "4e8c0c61",
   "metadata": {},
   "outputs": [],
   "source": [
    "# one hot encode outputs\n",
    "y_train = np_utils.to_categorical(y_train)\n",
    "y_test = np_utils.to_categorical(y_test)\n",
    "num_classes = y_test.shape[1]"
   ]
  },
  {
   "cell_type": "code",
   "execution_count": 182,
   "id": "397accef",
   "metadata": {},
   "outputs": [],
   "source": [
    "# define baseline model \n",
    "def baseline_model():\n",
    "    # create model\n",
    "    model = Sequential()\n",
    "    model.add(Dense(num_pixels, input_dim=num_pixels, kernel_initializer='normal', activation='relu'))\n",
    "    model.add(Dense(num_classes, kernel_initializer='normal', activation='softmax'))\n",
    "    \n",
    "    # Compile model\n",
    "    model.compile(loss='categorical_crossentropy', optimizer='adam', metrics=['accuracy'])\n",
    "    return model"
   ]
  },
  {
   "cell_type": "code",
   "execution_count": 183,
   "id": "f2fe7d5e",
   "metadata": {
    "scrolled": false
   },
   "outputs": [
    {
     "name": "stdout",
     "output_type": "stream",
     "text": [
      "Train on 60000 samples, validate on 10000 samples\n",
      "Epoch 1/10\n",
      "60000/60000 - 1s - loss: 0.2822 - acc: 0.9192 - val_loss: 0.1413 - val_acc: 0.9583 - 1s/epoch - 19us/sample\n",
      "Epoch 2/10\n"
     ]
    },
    {
     "name": "stderr",
     "output_type": "stream",
     "text": [
      "/home/spyros/anaconda3/lib/python3.9/site-packages/keras/engine/training_v1.py:2332: UserWarning: `Model.state_updates` will be removed in a future version. This property should not be used in TensorFlow 2.0, as `updates` are applied automatically.\n",
      "  updates = self.state_updates\n"
     ]
    },
    {
     "name": "stdout",
     "output_type": "stream",
     "text": [
      "60000/60000 - 1s - loss: 0.1130 - acc: 0.9670 - val_loss: 0.0996 - val_acc: 0.9700 - 1s/epoch - 19us/sample\n",
      "Epoch 3/10\n",
      "60000/60000 - 1s - loss: 0.0720 - acc: 0.9793 - val_loss: 0.0778 - val_acc: 0.9749 - 1s/epoch - 18us/sample\n",
      "Epoch 4/10\n",
      "60000/60000 - 1s - loss: 0.0516 - acc: 0.9850 - val_loss: 0.0688 - val_acc: 0.9790 - 1s/epoch - 20us/sample\n",
      "Epoch 5/10\n",
      "60000/60000 - 1s - loss: 0.0359 - acc: 0.9899 - val_loss: 0.0645 - val_acc: 0.9790 - 1s/epoch - 18us/sample\n",
      "Epoch 6/10\n",
      "60000/60000 - 1s - loss: 0.0258 - acc: 0.9932 - val_loss: 0.0702 - val_acc: 0.9781 - 1s/epoch - 18us/sample\n",
      "Epoch 7/10\n",
      "60000/60000 - 1s - loss: 0.0197 - acc: 0.9950 - val_loss: 0.0616 - val_acc: 0.9813 - 1s/epoch - 19us/sample\n",
      "Epoch 8/10\n",
      "60000/60000 - 1s - loss: 0.0139 - acc: 0.9971 - val_loss: 0.0583 - val_acc: 0.9825 - 1s/epoch - 19us/sample\n",
      "Epoch 9/10\n",
      "60000/60000 - 1s - loss: 0.0111 - acc: 0.9980 - val_loss: 0.0620 - val_acc: 0.9804 - 1s/epoch - 19us/sample\n",
      "Epoch 10/10\n",
      "60000/60000 - 1s - loss: 0.0084 - acc: 0.9984 - val_loss: 0.0660 - val_acc: 0.9807 - 1s/epoch - 19us/sample\n",
      "Baseline Error: 1.93%\n"
     ]
    }
   ],
   "source": [
    "# build the model\n",
    "model = baseline_model()\n",
    "\n",
    "# fit the model \n",
    "model.fit(x_train, y_train, validation_data=(x_test, y_test), epochs=10, batch_size=200, verbose=2)\n",
    "\n",
    "# final evaluation of the model\n",
    "scores = model.evaluate(x_test, y_test, verbose=0)\n",
    "print('Baseline Error: %.2f%%' % (100-scores[1]*100))"
   ]
  },
  {
   "cell_type": "markdown",
   "id": "b2246884",
   "metadata": {},
   "source": [
    "<br>"
   ]
  },
  {
   "cell_type": "markdown",
   "id": "be82cec0",
   "metadata": {},
   "source": [
    "### 4. Derive the gradients for below expressions:"
   ]
  },
  {
   "cell_type": "code",
   "execution_count": 184,
   "id": "e38e428d",
   "metadata": {},
   "outputs": [],
   "source": [
    "x = np.array([2,3], dtype=float)\n",
    "\n",
    "# let a1 = 1, a2 = 2, a3 = 3, a4 = 4\n",
    "A = np.array(\n",
    "    [[1, 2],\n",
    "     [3, 4]])\n"
   ]
  },
  {
   "cell_type": "code",
   "execution_count": 185,
   "id": "4fbddae7",
   "metadata": {},
   "outputs": [],
   "source": [
    "import numdifftools as nd"
   ]
  },
  {
   "cell_type": "code",
   "execution_count": 186,
   "id": "51beabcf",
   "metadata": {},
   "outputs": [
    {
     "name": "stdout",
     "output_type": "stream",
     "text": [
      "[[1. 2.]\n",
      " [3. 4.]]\n"
     ]
    }
   ],
   "source": [
    "function = 0.5 * x * A * x\n",
    "\n",
    "def Grad_f1(x):\n",
    "    return 0.5*x * A* x\n",
    "\n",
    "grad = nd.Gradient(Grad_f1)([1])\n",
    "print(grad)"
   ]
  },
  {
   "cell_type": "markdown",
   "id": "ad6734f5",
   "metadata": {},
   "source": [
    "\n",
    "#### The gradient of the function produces  A"
   ]
  },
  {
   "cell_type": "markdown",
   "id": "b6f41d0d",
   "metadata": {},
   "source": [
    "#### Therefore, gradient of f(x) = Ax"
   ]
  },
  {
   "cell_type": "code",
   "execution_count": null,
   "id": "bd2dfd9d",
   "metadata": {},
   "outputs": [],
   "source": []
  }
 ],
 "metadata": {
  "kernelspec": {
   "display_name": "Python 3 (ipykernel)",
   "language": "python",
   "name": "python3"
  },
  "language_info": {
   "codemirror_mode": {
    "name": "ipython",
    "version": 3
   },
   "file_extension": ".py",
   "mimetype": "text/x-python",
   "name": "python",
   "nbconvert_exporter": "python",
   "pygments_lexer": "ipython3",
   "version": "3.9.12"
  }
 },
 "nbformat": 4,
 "nbformat_minor": 5
}
