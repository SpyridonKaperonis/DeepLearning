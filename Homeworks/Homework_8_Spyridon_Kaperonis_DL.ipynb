{
 "cells": [
  {
   "cell_type": "code",
   "execution_count": 29,
   "id": "6033006c",
   "metadata": {},
   "outputs": [],
   "source": [
    "from keras.datasets import cifar10"
   ]
  },
  {
   "cell_type": "code",
   "execution_count": 30,
   "id": "6afcf737",
   "metadata": {},
   "outputs": [],
   "source": [
    "(x_train, y_train), (x_test, y_test) = cifar10.load_data()"
   ]
  },
  {
   "cell_type": "code",
   "execution_count": 31,
   "id": "3a3c16c5",
   "metadata": {},
   "outputs": [],
   "source": [
    "import numpy as np\n",
    "import pandas as pd\n",
    "\n",
    "import matplotlib.pyplot as plt\n",
    "from keras.models import Sequential, Model\n",
    "\n",
    "from keras.utils import np_utils\n",
    "from keras.layers import Conv2D, MaxPooling2D, Flatten, Dense, Activation, Dropout,ZeroPadding2D, Add\n",
    "from keras.layers import LeakyReLU\n",
    "from keras.optimizers import Adam\n",
    "from keras.preprocessing.image import ImageDataGenerator\n",
    "from keras.engine.input_layer import Input\n",
    "from tensorflow.keras.layers import BatchNormalization\n",
    "from keras.initializers import glorot_uniform"
   ]
  },
  {
   "cell_type": "code",
   "execution_count": 32,
   "id": "8f157fd5",
   "metadata": {},
   "outputs": [
    {
     "data": {
      "text/plain": [
       "<Figure size 1080x288 with 0 Axes>"
      ]
     },
     "metadata": {},
     "output_type": "display_data"
    }
   ],
   "source": [
    "NUM_CLASSES = 10\n",
    "cifar10_classes = ['airplane', 'automobile', 'bird', 'cat', 'deer', 'dog', 'frog', 'horse', 'ship', 'truck']\n",
    "cols = 8\n",
    "rows = 2\n",
    "fig = plt.figure(figsize=(2 * cols - 1, 2.5 * rows - 1))"
   ]
  },
  {
   "cell_type": "code",
   "execution_count": 33,
   "id": "24868f0d",
   "metadata": {},
   "outputs": [],
   "source": [
    "for i in range(cols):\n",
    "    for j in range(rows):\n",
    "        random_index = np.random.randint(0, len(y_train))\n",
    "        ax = fig.add_subplot(rows, cols, i * rows + j + 1)\n",
    "        ax.grid('off')\n",
    "        ax.axis('off')\n",
    "        ax.imshow(x_train[random_index, :])\n",
    "        ax.set_title(cifar10_classes[y_train[random_index, 0]])\n",
    "    plt.show()"
   ]
  },
  {
   "cell_type": "code",
   "execution_count": 161,
   "id": "3852b54d",
   "metadata": {},
   "outputs": [],
   "source": [
    "X_train = x_train.astype('float32')\n",
    "X_test = x_test.astype('float32')\n",
    "\n",
    "X_train/=255\n",
    "X_test/=255\n",
    "\n",
    "Y_train = np_utils.to_categorical(y_train, len(cifar10_classes))\n",
    "Y_test = np_utils.to_categorical(y_test, len(cifar10_classes))\n",
    "\n",
    "x_val = X_train[:10000]\n",
    "partial_x_train = X_train[10000:]\n",
    "y_val = Y_train[:10000]\n",
    "partial_y_train = Y_train[10000:]"
   ]
  },
  {
   "cell_type": "code",
   "execution_count": null,
   "id": "83273bc8",
   "metadata": {},
   "outputs": [],
   "source": []
  },
  {
   "cell_type": "code",
   "execution_count": 162,
   "id": "2451e2dd",
   "metadata": {},
   "outputs": [],
   "source": [
    "gen = ImageDataGenerator(\n",
    "    rescale=1./255,\n",
    "    rotation_range=8, \n",
    "    width_shift_range=0.08, \n",
    "    shear_range=0.3,\n",
    "    height_shift_range=0.08, \n",
    "    zoom_range=0.08)\n",
    "\n",
    "val_gen = ImageDataGenerator(rescale=1./255)\n",
    "\n",
    "\n",
    "train_generator = gen.flow(partial_x_train, partial_y_train, batch_size =64)\n",
    "val_generator = val_gen.flow(x_val, y_val, batch_size=64)"
   ]
  },
  {
   "cell_type": "code",
   "execution_count": null,
   "id": "d216a130",
   "metadata": {},
   "outputs": [],
   "source": []
  },
  {
   "cell_type": "code",
   "execution_count": 163,
   "id": "65f05c44",
   "metadata": {},
   "outputs": [],
   "source": [
    "def option1(X):\n",
    "    # First component\n",
    "    X = ZeroPadding2D(padding=(1,1), data_format=None)(X)\n",
    "    X = Conv2D(32, (5, 5), strides = (1,1), name = 'one')(X)\n",
    "    X = BatchNormalization(axis = 3, name = 'one1')(X)\n",
    "    X = Activation('relu')(X)\n",
    "    X = MaxPooling2D((5,5), strides=(1,1))(X)\n",
    "    \n",
    "    return X"
   ]
  },
  {
   "cell_type": "code",
   "execution_count": 164,
   "id": "0eb25f93",
   "metadata": {},
   "outputs": [],
   "source": [
    "def option2(X):\n",
    "    \n",
    "    #First Component\n",
    "    X = ZeroPadding2D(padding=(1,1), data_format=None)(X)\n",
    "    X = Conv2D(16, (1,1), strides=(1,1), name='two', padding='same')(X)\n",
    "    X = BatchNormalization(axis=3, name='two2')(X)\n",
    "    X = Activation('relu')(X)\n",
    "    X = MaxPooling2D((5,5), strides=(1,1))(X)\n",
    "        \n",
    "    # Second Component\n",
    "    X = ZeroPadding2D(padding=(5,5), data_format=None)(X)\n",
    "    X = Conv2D(32, (5,5), strides=(1,1), name='twoo', padding='same')(X)\n",
    "    X = BatchNormalization(axis=3, name='tw2')(X)\n",
    "    X = Activation('relu')(X)\n",
    "    X = MaxPooling2D((5,5), strides=(1,1))(X)\n",
    "    \n",
    "    return X"
   ]
  },
  {
   "cell_type": "code",
   "execution_count": 165,
   "id": "23b7ea95",
   "metadata": {},
   "outputs": [],
   "source": [
    "X_input = Input((28,28,192))"
   ]
  },
  {
   "cell_type": "code",
   "execution_count": 166,
   "id": "754e329e",
   "metadata": {},
   "outputs": [],
   "source": [
    "# Stage 1\n",
    "X = ZeroPadding2D(padding=(1,1), data_format=None)(X_input)\n",
    "X = Conv2D(64, (1,1), strides=(2,2), name='conv1', kernel_initializer=glorot_uniform(seed=0))(X)\n",
    "X = BatchNormalization(axis=3, name='bn_conv1')(X)\n",
    "X = Activation('relu')(X)\n",
    "X = MaxPooling2D((5,5), strides=(2,2))(X)"
   ]
  },
  {
   "cell_type": "code",
   "execution_count": 167,
   "id": "6d0136ff",
   "metadata": {},
   "outputs": [],
   "source": [
    "X_shortcut = X_input"
   ]
  },
  {
   "cell_type": "code",
   "execution_count": 168,
   "id": "4b15dfaa",
   "metadata": {},
   "outputs": [],
   "source": [
    "X = option1(X_input)"
   ]
  },
  {
   "cell_type": "markdown",
   "id": "b16bab1e",
   "metadata": {},
   "source": [
    "## Option 1"
   ]
  },
  {
   "cell_type": "code",
   "execution_count": 169,
   "id": "46f8cfb5",
   "metadata": {},
   "outputs": [
    {
     "name": "stdout",
     "output_type": "stream",
     "text": [
      "Model: \"Option 1\"\n",
      "_________________________________________________________________\n",
      " Layer (type)                Output Shape              Param #   \n",
      "=================================================================\n",
      " input_14 (InputLayer)       [(None, 28, 28, 192)]     0         \n",
      "                                                                 \n",
      " zero_padding2d_28 (ZeroPadd  (None, 30, 30, 192)      0         \n",
      " ing2D)                                                          \n",
      "                                                                 \n",
      " one (Conv2D)                (None, 26, 26, 32)        153632    \n",
      "                                                                 \n",
      " one1 (BatchNormalization)   (None, 26, 26, 32)        128       \n",
      "                                                                 \n",
      " activation_37 (Activation)  (None, 26, 26, 32)        0         \n",
      "                                                                 \n",
      " max_pooling2d_19 (MaxPoolin  (None, 22, 22, 32)       0         \n",
      " g2D)                                                            \n",
      "                                                                 \n",
      "=================================================================\n",
      "Total params: 153,760\n",
      "Trainable params: 153,696\n",
      "Non-trainable params: 64\n",
      "_________________________________________________________________\n"
     ]
    }
   ],
   "source": [
    "model = Model(inputs=X_input, outputs=X, name='Option 1')\n",
    "model.summary()"
   ]
  },
  {
   "cell_type": "code",
   "execution_count": null,
   "id": "17564860",
   "metadata": {},
   "outputs": [],
   "source": []
  },
  {
   "cell_type": "code",
   "execution_count": 170,
   "id": "a9bd42ee",
   "metadata": {},
   "outputs": [],
   "source": [
    "\n",
    "X = ZeroPadding2D(padding=(1,1), data_format=None)(X_input)\n",
    "X = Conv2D(64, (1,1), strides=(2,2), name='conv1', kernel_initializer=glorot_uniform(seed=0))(X)\n",
    "X = BatchNormalization(axis=3, name='bn_conv1')(X)\n",
    "X = Activation('relu')(X)\n",
    "X = MaxPooling2D((5,5), strides=(2,2))(X)"
   ]
  },
  {
   "cell_type": "code",
   "execution_count": 171,
   "id": "fe3adaaf",
   "metadata": {},
   "outputs": [],
   "source": [
    "X_shortcut = X_input"
   ]
  },
  {
   "cell_type": "code",
   "execution_count": 172,
   "id": "36172bba",
   "metadata": {},
   "outputs": [],
   "source": [
    "X = option2(X_input)"
   ]
  },
  {
   "cell_type": "markdown",
   "id": "39d900c3",
   "metadata": {},
   "source": [
    "## Option 2"
   ]
  },
  {
   "cell_type": "code",
   "execution_count": 173,
   "id": "90acedc7",
   "metadata": {},
   "outputs": [
    {
     "name": "stdout",
     "output_type": "stream",
     "text": [
      "Model: \"Option 2\"\n",
      "_________________________________________________________________\n",
      " Layer (type)                Output Shape              Param #   \n",
      "=================================================================\n",
      " input_14 (InputLayer)       [(None, 28, 28, 192)]     0         \n",
      "                                                                 \n",
      " zero_padding2d_30 (ZeroPadd  (None, 30, 30, 192)      0         \n",
      " ing2D)                                                          \n",
      "                                                                 \n",
      " two (Conv2D)                (None, 30, 30, 16)        3088      \n",
      "                                                                 \n",
      " two2 (BatchNormalization)   (None, 30, 30, 16)        64        \n",
      "                                                                 \n",
      " activation_39 (Activation)  (None, 30, 30, 16)        0         \n",
      "                                                                 \n",
      " max_pooling2d_21 (MaxPoolin  (None, 26, 26, 16)       0         \n",
      " g2D)                                                            \n",
      "                                                                 \n",
      " zero_padding2d_31 (ZeroPadd  (None, 36, 36, 16)       0         \n",
      " ing2D)                                                          \n",
      "                                                                 \n",
      " twoo (Conv2D)               (None, 36, 36, 32)        12832     \n",
      "                                                                 \n",
      " tw2 (BatchNormalization)    (None, 36, 36, 32)        128       \n",
      "                                                                 \n",
      " activation_40 (Activation)  (None, 36, 36, 32)        0         \n",
      "                                                                 \n",
      " max_pooling2d_22 (MaxPoolin  (None, 32, 32, 32)       0         \n",
      " g2D)                                                            \n",
      "                                                                 \n",
      "=================================================================\n",
      "Total params: 16,112\n",
      "Trainable params: 16,016\n",
      "Non-trainable params: 96\n",
      "_________________________________________________________________\n"
     ]
    }
   ],
   "source": [
    "model = Model(inputs=X_input, outputs=X, name='Option 2')\n",
    "model.summary()"
   ]
  },
  {
   "cell_type": "markdown",
   "id": "d4810e76",
   "metadata": {},
   "source": [
    "<br/>"
   ]
  },
  {
   "cell_type": "markdown",
   "id": "9c862737",
   "metadata": {},
   "source": [
    "From the above results we can see that option 1 has a significantly higher number of params than option 2. In option 1 we have one 5x5 32 filter which does not limit the input channels.\n",
    "In option 2 there is one 1x1 colvolution before 3x3 which limits the channels."
   ]
  },
  {
   "cell_type": "markdown",
   "id": "c0b59ac2",
   "metadata": {},
   "source": [
    "This is a very useful technique becasue we can reduce the computational cost significantly. "
   ]
  },
  {
   "cell_type": "code",
   "execution_count": null,
   "id": "99a9e6ae",
   "metadata": {},
   "outputs": [],
   "source": []
  }
 ],
 "metadata": {
  "kernelspec": {
   "display_name": "Python 3 (ipykernel)",
   "language": "python",
   "name": "python3"
  },
  "language_info": {
   "codemirror_mode": {
    "name": "ipython",
    "version": 3
   },
   "file_extension": ".py",
   "mimetype": "text/x-python",
   "name": "python",
   "nbconvert_exporter": "python",
   "pygments_lexer": "ipython3",
   "version": "3.9.12"
  }
 },
 "nbformat": 4,
 "nbformat_minor": 5
}
