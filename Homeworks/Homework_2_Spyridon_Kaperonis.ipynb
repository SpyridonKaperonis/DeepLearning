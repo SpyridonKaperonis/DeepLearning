{
 "cells": [
  {
   "cell_type": "markdown",
   "id": "5ddf62c0",
   "metadata": {},
   "source": [
    "## Homework 2"
   ]
  },
  {
   "cell_type": "markdown",
   "id": "2f306424",
   "metadata": {},
   "source": [
    "#### 1. Bag of Words"
   ]
  },
  {
   "cell_type": "code",
   "execution_count": 164,
   "id": "a063af7f",
   "metadata": {},
   "outputs": [],
   "source": [
    "import numpy as np"
   ]
  },
  {
   "cell_type": "code",
   "execution_count": 165,
   "id": "327e7343",
   "metadata": {},
   "outputs": [],
   "source": [
    "\n",
    "def bag_of_words(text, words_to_index, dict_size):\n",
    "\n",
    "    # Assign indexes to vocabulary\n",
    "    token_index = {}\n",
    "    for sample in words_to_index:\n",
    "        for word in sample.split():\n",
    "            if word not in token_index:\n",
    "                token_index[word] = len(token_index)\n",
    "    print(token_index)\n",
    "\n",
    "    result_vector = np.zeros(dict_size)\n",
    "\n",
    "    # Vectorize text\n",
    "    for sample in text:\n",
    "        for word in sample.split(' '):\n",
    "            index = token_index.get(word)\n",
    "          \n",
    "            if word in token_index:\n",
    "                result_vector[index] = 1\n",
    "            elif word not in token_index:\n",
    "                pass\n",
    "            else:\n",
    "                result_vector[index] = 0\n",
    "    return f'{text}', result_vector"
   ]
  },
  {
   "cell_type": "code",
   "execution_count": 166,
   "id": "5f611236",
   "metadata": {},
   "outputs": [],
   "source": [
    "text = ['hi', 'you', 'me', 'are']\n",
    "sentence = ['hi how are you']\n"
   ]
  },
  {
   "cell_type": "markdown",
   "id": "6bc6db0b",
   "metadata": {},
   "source": [
    "&#8595;     &#8595;    &#8595;   &#8595;  &#8595; &#8595;  &#8595;  &#8595;     &#8595;    &#8595;"
   ]
  },
  {
   "cell_type": "code",
   "execution_count": 167,
   "id": "c0af9b80",
   "metadata": {
    "scrolled": true
   },
   "outputs": [
    {
     "name": "stdout",
     "output_type": "stream",
     "text": [
      "{'hi': 0, 'you': 1, 'me': 2, 'are': 3}\n"
     ]
    },
    {
     "data": {
      "text/plain": [
       "(\"['hi how are you']\", array([1., 1., 0., 1.]))"
      ]
     },
     "execution_count": 167,
     "metadata": {},
     "output_type": "execute_result"
    }
   ],
   "source": [
    "bag_of_words(sentence, text, len(text))"
   ]
  },
  {
   "cell_type": "markdown",
   "id": "fd3dbd84",
   "metadata": {},
   "source": [
    "<br>"
   ]
  },
  {
   "cell_type": "markdown",
   "id": "1f7e8282",
   "metadata": {},
   "source": [
    "#### 2. TF-IDF"
   ]
  },
  {
   "cell_type": "markdown",
   "id": "85aa3844",
   "metadata": {},
   "source": [
    "<br>"
   ]
  },
  {
   "cell_type": "markdown",
   "id": "bf17318c",
   "metadata": {},
   "source": [
    "##### tf-idf-example"
   ]
  },
  {
   "cell_type": "markdown",
   "id": "3e2e9eef",
   "metadata": {},
   "source": [
    "##### 1. Test the script tfidf_demo.ipynb in the Jupiter note and make sure they work. "
   ]
  },
  {
   "cell_type": "code",
   "execution_count": 168,
   "id": "e67ec370",
   "metadata": {},
   "outputs": [
    {
     "name": "stderr",
     "output_type": "stream",
     "text": [
      "/home/spyros/anaconda3/lib/python3.9/site-packages/sklearn/utils/deprecation.py:87: FutureWarning: Function get_feature_names is deprecated; get_feature_names is deprecated in 1.0 and will be removed in 1.2. Please use get_feature_names_out instead.\n",
      "  warnings.warn(msg, category=FutureWarning)\n"
     ]
    },
    {
     "data": {
      "text/html": [
       "<div>\n",
       "<style scoped>\n",
       "    .dataframe tbody tr th:only-of-type {\n",
       "        vertical-align: middle;\n",
       "    }\n",
       "\n",
       "    .dataframe tbody tr th {\n",
       "        vertical-align: top;\n",
       "    }\n",
       "\n",
       "    .dataframe thead th {\n",
       "        text-align: right;\n",
       "    }\n",
       "</style>\n",
       "<table border=\"1\" class=\"dataframe\">\n",
       "  <thead>\n",
       "    <tr style=\"text-align: right;\">\n",
       "      <th></th>\n",
       "      <th>good movie</th>\n",
       "      <th>like</th>\n",
       "      <th>movie</th>\n",
       "      <th>not</th>\n",
       "    </tr>\n",
       "  </thead>\n",
       "  <tbody>\n",
       "    <tr>\n",
       "      <th>0</th>\n",
       "      <td>0.707107</td>\n",
       "      <td>0.000000</td>\n",
       "      <td>0.707107</td>\n",
       "      <td>0.000000</td>\n",
       "    </tr>\n",
       "    <tr>\n",
       "      <th>1</th>\n",
       "      <td>0.577350</td>\n",
       "      <td>0.000000</td>\n",
       "      <td>0.577350</td>\n",
       "      <td>0.577350</td>\n",
       "    </tr>\n",
       "    <tr>\n",
       "      <th>2</th>\n",
       "      <td>0.000000</td>\n",
       "      <td>0.707107</td>\n",
       "      <td>0.000000</td>\n",
       "      <td>0.707107</td>\n",
       "    </tr>\n",
       "    <tr>\n",
       "      <th>3</th>\n",
       "      <td>0.000000</td>\n",
       "      <td>1.000000</td>\n",
       "      <td>0.000000</td>\n",
       "      <td>0.000000</td>\n",
       "    </tr>\n",
       "    <tr>\n",
       "      <th>4</th>\n",
       "      <td>0.000000</td>\n",
       "      <td>0.000000</td>\n",
       "      <td>0.000000</td>\n",
       "      <td>0.000000</td>\n",
       "    </tr>\n",
       "  </tbody>\n",
       "</table>\n",
       "</div>"
      ],
      "text/plain": [
       "   good movie      like     movie       not\n",
       "0    0.707107  0.000000  0.707107  0.000000\n",
       "1    0.577350  0.000000  0.577350  0.577350\n",
       "2    0.000000  0.707107  0.000000  0.707107\n",
       "3    0.000000  1.000000  0.000000  0.000000\n",
       "4    0.000000  0.000000  0.000000  0.000000"
      ]
     },
     "execution_count": 168,
     "metadata": {},
     "output_type": "execute_result"
    }
   ],
   "source": [
    "from sklearn.feature_extraction.text import TfidfVectorizer\n",
    "import pandas as pd\n",
    "texts = [\n",
    "    \"good movie\", \"not a good movie\", \"did not like\", \n",
    "    \"i like it\", \"good one\"\n",
    "]\n",
    "\n",
    "\n",
    "# using default tokenizer in TfidfVectorizer\n",
    "tfidf = TfidfVectorizer(min_df=2, max_df=0.5, ngram_range=(1, 2))\n",
    "features = tfidf.fit_transform(texts)\n",
    "pd.DataFrame(\n",
    "    features.todense(),\n",
    "    columns=tfidf.get_feature_names()\n",
    ")\n"
   ]
  },
  {
   "cell_type": "markdown",
   "id": "34e61bfb",
   "metadata": {},
   "source": [
    "##### 2. Replace the movie review data \"texts\" in the script file with your own defined document and test it."
   ]
  },
  {
   "cell_type": "code",
   "execution_count": 169,
   "id": "23758791",
   "metadata": {},
   "outputs": [
    {
     "name": "stderr",
     "output_type": "stream",
     "text": [
      "/home/spyros/anaconda3/lib/python3.9/site-packages/sklearn/utils/deprecation.py:87: FutureWarning: Function get_feature_names is deprecated; get_feature_names is deprecated in 1.0 and will be removed in 1.2. Please use get_feature_names_out instead.\n",
      "  warnings.warn(msg, category=FutureWarning)\n"
     ]
    },
    {
     "data": {
      "text/html": [
       "<div>\n",
       "<style scoped>\n",
       "    .dataframe tbody tr th:only-of-type {\n",
       "        vertical-align: middle;\n",
       "    }\n",
       "\n",
       "    .dataframe tbody tr th {\n",
       "        vertical-align: top;\n",
       "    }\n",
       "\n",
       "    .dataframe thead th {\n",
       "        text-align: right;\n",
       "    }\n",
       "</style>\n",
       "<table border=\"1\" class=\"dataframe\">\n",
       "  <thead>\n",
       "    <tr style=\"text-align: right;\">\n",
       "      <th></th>\n",
       "      <th>going</th>\n",
       "      <th>is</th>\n",
       "      <th>it</th>\n",
       "      <th>it is</th>\n",
       "      <th>today</th>\n",
       "    </tr>\n",
       "  </thead>\n",
       "  <tbody>\n",
       "    <tr>\n",
       "      <th>0</th>\n",
       "      <td>0.447214</td>\n",
       "      <td>0.447214</td>\n",
       "      <td>0.447214</td>\n",
       "      <td>0.447214</td>\n",
       "      <td>0.447214</td>\n",
       "    </tr>\n",
       "    <tr>\n",
       "      <th>1</th>\n",
       "      <td>0.707107</td>\n",
       "      <td>0.000000</td>\n",
       "      <td>0.000000</td>\n",
       "      <td>0.000000</td>\n",
       "      <td>0.707107</td>\n",
       "    </tr>\n",
       "    <tr>\n",
       "      <th>2</th>\n",
       "      <td>0.000000</td>\n",
       "      <td>0.577350</td>\n",
       "      <td>0.577350</td>\n",
       "      <td>0.577350</td>\n",
       "      <td>0.000000</td>\n",
       "    </tr>\n",
       "    <tr>\n",
       "      <th>3</th>\n",
       "      <td>0.000000</td>\n",
       "      <td>0.000000</td>\n",
       "      <td>0.000000</td>\n",
       "      <td>0.000000</td>\n",
       "      <td>0.000000</td>\n",
       "    </tr>\n",
       "  </tbody>\n",
       "</table>\n",
       "</div>"
      ],
      "text/plain": [
       "      going        is        it     it is     today\n",
       "0  0.447214  0.447214  0.447214  0.447214  0.447214\n",
       "1  0.707107  0.000000  0.000000  0.000000  0.707107\n",
       "2  0.000000  0.577350  0.577350  0.577350  0.000000\n",
       "3  0.000000  0.000000  0.000000  0.000000  0.000000"
      ]
     },
     "execution_count": 169,
     "metadata": {},
     "output_type": "execute_result"
    }
   ],
   "source": [
    "# Replace the moview review data 'texts' in the script file with your \n",
    "# own defined document and test it. \n",
    "texts = ['It is going to rain today.', 'Today I am not going outside.',\n",
    "        'It is a beautifu day', \n",
    "          'Hello world'\n",
    "        ]\n",
    "\n",
    "# using default tokenizer in TfidfVectorizer\n",
    "tfidf = TfidfVectorizer(min_df=2, max_df=0.5, ngram_range=(1, 2))\n",
    "features = tfidf.fit_transform(texts)\n",
    "pd.DataFrame(\n",
    "    features.todense(),\n",
    "    columns=tfidf.get_feature_names()\n",
    ")\n"
   ]
  },
  {
   "cell_type": "markdown",
   "id": "ae84200a",
   "metadata": {},
   "source": [
    "##### 3. Given the below documents. \n",
    "\n",
    "texts = [\n",
    "    \"good movie\", \"not a good movie\", \"did not like\", \n",
    "    \"i like it\", \"good one\"\n",
    "]\n",
    "\n",
    "#### Given the definition of TF and IDF, what is the sum of TF-IDF values for 1-grams in \"good movie\" text? Enter a math expression as an answer."
   ]
  },
  {
   "cell_type": "markdown",
   "id": "f287e764",
   "metadata": {},
   "source": [
    "- TF = (Number of repetitions of word in document) / (number of words in a document)"
   ]
  },
  {
   "cell_type": "markdown",
   "id": "b945e543",
   "metadata": {},
   "source": [
    "- IDF = log[(Number of documents) / (Number of documents containing the word)]"
   ]
  },
  {
   "cell_type": "markdown",
   "id": "0a179dab",
   "metadata": {},
   "source": [
    "- I am not certain about what you are asking in this question. However, there are two possible questions I can think of. "
   ]
  },
  {
   "cell_type": "markdown",
   "id": "e8b1bdc2",
   "metadata": {},
   "source": [
    "1. The first question I can think of is the Score of tf.idf values. We can see the formula below"
   ]
  },
  {
   "cell_type": "markdown",
   "id": "fa2087e6",
   "metadata": {},
   "source": [
    "<font size=\"5\">Score(q,d) = $\\sum_{t \\in q} tf*idf_{t,d}$</font>"
   ]
  },
  {
   "cell_type": "markdown",
   "id": "25a6168b",
   "metadata": {},
   "source": [
    "2. The second possible question is the Normalization formula row-wise as you have it in the lecture slides. In the case of 1-gram ${p = 1}$ and ${u = tf.idf}$"
   ]
  },
  {
   "cell_type": "markdown",
   "id": "fdd5fa8c",
   "metadata": {},
   "source": [
    "<font size=\"5\">$\\mid\\mid\\overline{u}\\mid\\mid_{p} = (\\sum_{i=1}^{n} \\mid\\overline{u_{i}}\\mid^{p})^{1/p}$</font>"
   ]
  },
  {
   "cell_type": "markdown",
   "id": "cc451936",
   "metadata": {},
   "source": [
    "<br>"
   ]
  },
  {
   "cell_type": "markdown",
   "id": "38a5b33d",
   "metadata": {},
   "source": [
    "#### TF\n",
    "\n",
    "| Words | Doc1 | Doc2 | Doc3 | Doc4 | Doc5 |\n",
    "|-------|------|------|------|------|------|\n",
    "| good  |   1/2|   1/4|     0|     0|   1/2|\n",
    "| movie |   1/2|   1/4|     0|     0|     0|\n",
    "| a     |     0|   1/4|     0|     0|     0|\n",
    "| did   |     0|     0|   1/3|     0|     0|\n",
    "| not   |     0|   1/4|   1/3|     0|     0|\n",
    "| like  |     0|     0|   1/3|   1/3|     0|\n",
    "| I     |     0|     0|     0|   1/3|     0|\n",
    "| it    |     0|     0|     0|   1/3|     0|\n",
    "| one   |     0|     0|     0|     0|   1/2|"
   ]
  },
  {
   "cell_type": "markdown",
   "id": "8a74afc4",
   "metadata": {},
   "source": [
    "#### IDF\n",
    "\n",
    "| Words | IDF Value |\n",
    "|-------|-----------|\n",
    "| good  |  log(5/3) |\n",
    "| movie |  log(5/2) |\n",
    "| a     |  log(5/1) |\n",
    "| did   |  log(5/1) |\n",
    "| not   |  log(5/2) |\n",
    "| like  |  log(5/2) |\n",
    "| I     |  log(5/1) |\n",
    "| it    |  log(5/1) |\n",
    "| one   |  log(5/1) |"
   ]
  }
 ],
 "metadata": {
  "kernelspec": {
   "display_name": "Python 3 (ipykernel)",
   "language": "python",
   "name": "python3"
  },
  "language_info": {
   "codemirror_mode": {
    "name": "ipython",
    "version": 3
   },
   "file_extension": ".py",
   "mimetype": "text/x-python",
   "name": "python",
   "nbconvert_exporter": "python",
   "pygments_lexer": "ipython3",
   "version": "3.9.12"
  }
 },
 "nbformat": 4,
 "nbformat_minor": 5
}
