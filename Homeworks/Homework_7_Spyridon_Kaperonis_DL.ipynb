{
 "cells": [
  {
   "cell_type": "code",
   "execution_count": 4,
   "id": "aa0af8df",
   "metadata": {
    "scrolled": false
   },
   "outputs": [],
   "source": [
    "import tensorflow as tf"
   ]
  },
  {
   "cell_type": "code",
   "execution_count": 5,
   "id": "b4f0d866",
   "metadata": {},
   "outputs": [],
   "source": [
    "import numpy as np\n",
    "import pandas as pd\n",
    "\n",
    "import matplotlib.pyplot as plt\n",
    "from keras.models import Sequential, Model\n",
    "\n",
    "from keras.utils import np_utils\n",
    "from keras.layers import Conv2D, MaxPooling2D, Flatten, Dense, Activation, Dropout,ZeroPadding2D, Add\n",
    "from keras.layers import LeakyReLU\n",
    "from keras.optimizers import Adam\n",
    "from keras.preprocessing.image import ImageDataGenerator\n",
    "from keras.engine.input_layer import Input\n",
    "from tensorflow.keras.layers import BatchNormalization\n",
    "from keras.initializers import glorot_uniform"
   ]
  },
  {
   "cell_type": "code",
   "execution_count": 6,
   "id": "285e70d3",
   "metadata": {},
   "outputs": [],
   "source": [
    "from keras.datasets import cifar10\n",
    "\n",
    "(x_train,y_train), (x_test,y_test) = cifar10.load_data()"
   ]
  },
  {
   "cell_type": "code",
   "execution_count": 14,
   "id": "bfc104f6",
   "metadata": {},
   "outputs": [
    {
     "data": {
      "text/plain": [
       "<Figure size 1080x288 with 0 Axes>"
      ]
     },
     "metadata": {},
     "output_type": "display_data"
    }
   ],
   "source": [
    "NUM_CLASSES = 10\n",
    "cifar10_classes = ['airplane', 'automobile', 'bird', 'cat', 'deer', 'dog', 'frog', 'horse', 'ship', 'truck']\n",
    "cols = 8\n",
    "rows = 2\n",
    "fig = plt.figure(figsize=(2 * cols - 1, 2.5 * rows - 1))"
   ]
  },
  {
   "cell_type": "code",
   "execution_count": 15,
   "id": "541fe778",
   "metadata": {},
   "outputs": [],
   "source": [
    "for i in range(cols):\n",
    "    for j in range(rows):\n",
    "        random_index = np.random.randint(0, len(y_train))\n",
    "        ax = fig.add_subplot(rows, cols, i * rows + j + 1)\n",
    "        ax.grid('off')\n",
    "        ax.axis('off')\n",
    "        ax.imshow(x_train[random_index, :])\n",
    "        ax.set_title(cifar10_classes[y_train[random_index, 0]])\n",
    "        plt.show()"
   ]
  },
  {
   "cell_type": "code",
   "execution_count": null,
   "id": "a4503d00",
   "metadata": {},
   "outputs": [],
   "source": []
  },
  {
   "cell_type": "code",
   "execution_count": 9,
   "id": "a752dbaa",
   "metadata": {},
   "outputs": [],
   "source": [
    "X_train = x_train.astype('float32')\n",
    "X_test = x_test.astype('float32')\n",
    "\n",
    "X_train/=255\n",
    "X_test/=255\n",
    "\n",
    "Y_train = np_utils.to_categorical(y_train, len(cifar10_classes))\n",
    "Y_test = np_utils.to_categorical(y_test, len(cifar10_classes))\n",
    "\n",
    "x_val = X_train[:10000]\n",
    "partial_x_train = X_train[10000:]\n",
    "y_val = Y_train[:10000]\n",
    "partial_y_train = Y_train[10000:]"
   ]
  },
  {
   "cell_type": "code",
   "execution_count": 10,
   "id": "d667746c",
   "metadata": {},
   "outputs": [],
   "source": [
    "gen = ImageDataGenerator(rotation_range=8, width_shift_range=0.08, shear_range=0.3,\n",
    "                        height_shift_range=0.08, zoom_range=0.08)\n",
    "\n",
    "val_gen = ImageDataGenerator()\n",
    "train_generator = gen.flow(partial_x_train, partial_y_train, batch_size =64)\n",
    "val_generator = val_gen.flow(x_val, y_val, batch_size=64)"
   ]
  },
  {
   "cell_type": "code",
   "execution_count": 11,
   "id": "01335c55",
   "metadata": {},
   "outputs": [],
   "source": [
    "def conv_block(X, f, filters, stage, block, s=2):\n",
    "    conv_name = 'res'+str(stage)+block+'_branch'\n",
    "    name_base = 'bn' + str(stage) + block + '_branch'\n",
    "    \n",
    "    # retrieve filters\n",
    "    F1, F2, F3 = filters\n",
    "    \n",
    "    # Save the input values \n",
    "    X_shortcut = X\n",
    "    \n",
    "    # First component\n",
    "    X = Conv2D(F1, (1, 1), strides = (s,s), name = conv_name + '2a', kernel_initializer = glorot_uniform(seed=0))(X)\n",
    "    X = BatchNormalization(axis = 3, name = name_base + '2a')(X)\n",
    "    X = Activation('relu')(X)\n",
    "    \n",
    "    # Second component\n",
    "    X = Conv2D(F2, (f,f), strides=(1,1), name=conv_name + '2b', kernel_initializer=glorot_uniform(seed=0))(X)\n",
    "    X = BatchNormalization(axis = 3, name = name_base + '2b')(X)\n",
    "    X = Activation('relu')(X)\n",
    "    \n",
    "    # Third component\n",
    "    X = Conv2D(F3, (1,1), strides = (1,1), padding = 'valid', name = conv_name + '2c', kernel_initializer=glorot_uniform(seed =0))(X)\n",
    "    X = BatchNormalization(axis = 3, name = name_base + '2c')(X)\n",
    "    \n",
    "    X_shortcut = Conv2D(F3, (1,1), strides = (s,s), padding = 'valid', name = conv_name + '1', kernel_initializer=glorot_uniform(seed =0))(X_shortcut)\n",
    "    X_shortcut = BatchNormalization(axis = 3, name = name_base + '1')(X_shortcut)\n",
    "    \n",
    "    X = Add()([X, X_shortcut])\n",
    "    X = Activation('relu')(X)\n",
    "    \n",
    "    return X"
   ]
  },
  {
   "cell_type": "code",
   "execution_count": 12,
   "id": "571167ea",
   "metadata": {},
   "outputs": [
    {
     "name": "stderr",
     "output_type": "stream",
     "text": [
      "2022-11-13 09:40:15.784029: I tensorflow/stream_executor/cuda/cuda_gpu_executor.cc:980] successful NUMA node read from SysFS had negative value (-1), but there must be at least one NUMA node, so returning NUMA node zero\n",
      "2022-11-13 09:40:15.784355: W tensorflow/stream_executor/platform/default/dso_loader.cc:64] Could not load dynamic library 'libcudart.so.11.0'; dlerror: libcudart.so.11.0: cannot open shared object file: No such file or directory\n",
      "2022-11-13 09:40:15.784449: W tensorflow/stream_executor/platform/default/dso_loader.cc:64] Could not load dynamic library 'libcublas.so.11'; dlerror: libcublas.so.11: cannot open shared object file: No such file or directory\n",
      "2022-11-13 09:40:15.784518: W tensorflow/stream_executor/platform/default/dso_loader.cc:64] Could not load dynamic library 'libcublasLt.so.11'; dlerror: libcublasLt.so.11: cannot open shared object file: No such file or directory\n",
      "2022-11-13 09:40:15.784583: W tensorflow/stream_executor/platform/default/dso_loader.cc:64] Could not load dynamic library 'libcufft.so.10'; dlerror: libcufft.so.10: cannot open shared object file: No such file or directory\n",
      "2022-11-13 09:40:15.784649: W tensorflow/stream_executor/platform/default/dso_loader.cc:64] Could not load dynamic library 'libcurand.so.10'; dlerror: libcurand.so.10: cannot open shared object file: No such file or directory\n",
      "2022-11-13 09:40:15.784711: W tensorflow/stream_executor/platform/default/dso_loader.cc:64] Could not load dynamic library 'libcusolver.so.11'; dlerror: libcusolver.so.11: cannot open shared object file: No such file or directory\n",
      "2022-11-13 09:40:15.784773: W tensorflow/stream_executor/platform/default/dso_loader.cc:64] Could not load dynamic library 'libcusparse.so.11'; dlerror: libcusparse.so.11: cannot open shared object file: No such file or directory\n",
      "2022-11-13 09:40:15.784837: W tensorflow/stream_executor/platform/default/dso_loader.cc:64] Could not load dynamic library 'libcudnn.so.8'; dlerror: libcudnn.so.8: cannot open shared object file: No such file or directory\n",
      "2022-11-13 09:40:15.784846: W tensorflow/core/common_runtime/gpu/gpu_device.cc:1934] Cannot dlopen some GPU libraries. Please make sure the missing libraries mentioned above are installed properly if you would like to use GPU. Follow the guide at https://www.tensorflow.org/install/gpu for how to download and setup the required libraries for your platform.\n",
      "Skipping registering GPU devices...\n",
      "2022-11-13 09:40:15.785098: I tensorflow/core/platform/cpu_feature_guard.cc:193] This TensorFlow binary is optimized with oneAPI Deep Neural Network Library (oneDNN) to use the following CPU instructions in performance-critical operations:  AVX2 FMA\n",
      "To enable them in other operations, rebuild TensorFlow with the appropriate compiler flags.\n"
     ]
    }
   ],
   "source": [
    "X_input = Input((32,32,3))\n",
    "\n",
    "# Stage 1\n",
    "X = ZeroPadding2D(padding=(3,3), data_format=None)(X_input)\n",
    "X = Conv2D(64, (7,7), strides=(2,2), name='conv1', kernel_initializer=glorot_uniform(seed=0))(X)\n",
    "X = BatchNormalization(axis=3, name='bn_conv1')(X)\n",
    "X = Activation('relu')(X)\n",
    "X = MaxPooling2D((3,3), strides=(2,2))(X)"
   ]
  },
  {
   "cell_type": "code",
   "execution_count": 13,
   "id": "1cd850c5",
   "metadata": {},
   "outputs": [
    {
     "data": {
      "text/plain": [
       "<KerasTensor: shape=(None, 32, 32, 3) dtype=float32 (created by layer 'input_1')>"
      ]
     },
     "execution_count": 13,
     "metadata": {},
     "output_type": "execute_result"
    }
   ],
   "source": [
    "X_input"
   ]
  },
  {
   "cell_type": "code",
   "execution_count": 31,
   "id": "45360d6d",
   "metadata": {},
   "outputs": [],
   "source": [
    "\n",
    "X_shortcut = X\n"
   ]
  },
  {
   "cell_type": "code",
   "execution_count": 32,
   "id": "39f86631",
   "metadata": {},
   "outputs": [
    {
     "data": {
      "text/plain": [
       "TensorShape([None, 7, 7, 64])"
      ]
     },
     "execution_count": 32,
     "metadata": {},
     "output_type": "execute_result"
    }
   ],
   "source": [
    "X.shape"
   ]
  },
  {
   "cell_type": "code",
   "execution_count": null,
   "id": "2ef6712a",
   "metadata": {},
   "outputs": [],
   "source": []
  },
  {
   "cell_type": "code",
   "execution_count": null,
   "id": "953fd622",
   "metadata": {},
   "outputs": [],
   "source": []
  },
  {
   "cell_type": "code",
   "execution_count": 33,
   "id": "3b95e325",
   "metadata": {},
   "outputs": [],
   "source": [
    "# Stage 2\n",
    "X = conv_block(X, f=7, filters=[64, 64, 256], stage=2, block='a', s=1)"
   ]
  },
  {
   "cell_type": "code",
   "execution_count": 34,
   "id": "d6e5a2cb",
   "metadata": {},
   "outputs": [],
   "source": [
    "# Stage 3\n",
    "X = conv_block(X, f=7, filters=[64, 64, 256], stage=3, block='b', s=1)"
   ]
  },
  {
   "cell_type": "code",
   "execution_count": 35,
   "id": "7a212a3c",
   "metadata": {},
   "outputs": [],
   "source": [
    "# Stage 4\n",
    "X = conv_block(X, f=7, filters=[64, 64, 64], stage=4, block='c', s=1)"
   ]
  },
  {
   "cell_type": "code",
   "execution_count": null,
   "id": "57599078",
   "metadata": {},
   "outputs": [],
   "source": []
  },
  {
   "cell_type": "code",
   "execution_count": null,
   "id": "c2493991",
   "metadata": {},
   "outputs": [],
   "source": []
  },
  {
   "cell_type": "code",
   "execution_count": 36,
   "id": "da9b977c",
   "metadata": {},
   "outputs": [],
   "source": [
    "X = Add()([X, X_shortcut])\n",
    "X = Activation('relu')(X)"
   ]
  },
  {
   "cell_type": "code",
   "execution_count": 37,
   "id": "cb535a83",
   "metadata": {},
   "outputs": [],
   "source": [
    "X = Flatten()(X)\n",
    "X = Dense(NUM_CLASSES, activation='softmax', name='fc'+str(NUM_CLASSES), kernel_initializer=glorot_uniform(seed=0))(X)"
   ]
  },
  {
   "cell_type": "code",
   "execution_count": 38,
   "id": "451ecc65",
   "metadata": {
    "scrolled": false
   },
   "outputs": [
    {
     "name": "stdout",
     "output_type": "stream",
     "text": [
      "Model: \"ResNet50\"\n",
      "__________________________________________________________________________________________________\n",
      " Layer (type)                   Output Shape         Param #     Connected to                     \n",
      "==================================================================================================\n",
      " input_3 (InputLayer)           [(None, 32, 32, 3)]  0           []                               \n",
      "                                                                                                  \n",
      " zero_padding2d_3 (ZeroPadding2  (None, 38, 38, 3)   0           ['input_3[0][0]']                \n",
      " D)                                                                                               \n",
      "                                                                                                  \n",
      " conv1 (Conv2D)                 (None, 16, 16, 64)   9472        ['zero_padding2d_3[0][0]']       \n",
      "                                                                                                  \n",
      " bn_conv1 (BatchNormalization)  (None, 16, 16, 64)   256         ['conv1[0][0]']                  \n",
      "                                                                                                  \n",
      " activation_13 (Activation)     (None, 16, 16, 64)   0           ['bn_conv1[0][0]']               \n",
      "                                                                                                  \n",
      " max_pooling2d_2 (MaxPooling2D)  (None, 7, 7, 64)    0           ['activation_13[0][0]']          \n",
      "                                                                                                  \n",
      " res2a_branch2a (Conv2D)        (None, 7, 7, 64)     4160        ['max_pooling2d_2[0][0]']        \n",
      "                                                                                                  \n",
      " bn2a_branch2a (BatchNormalizat  (None, 7, 7, 64)    256         ['res2a_branch2a[0][0]']         \n",
      " ion)                                                                                             \n",
      "                                                                                                  \n",
      " activation_14 (Activation)     (None, 7, 7, 64)     0           ['bn2a_branch2a[0][0]']          \n",
      "                                                                                                  \n",
      " res2a_branch2b (Conv2D)        (None, 1, 1, 64)     200768      ['activation_14[0][0]']          \n",
      "                                                                                                  \n",
      " bn2a_branch2b (BatchNormalizat  (None, 1, 1, 64)    256         ['res2a_branch2b[0][0]']         \n",
      " ion)                                                                                             \n",
      "                                                                                                  \n",
      " activation_15 (Activation)     (None, 1, 1, 64)     0           ['bn2a_branch2b[0][0]']          \n",
      "                                                                                                  \n",
      " res2a_branch2c (Conv2D)        (None, 1, 1, 256)    16640       ['activation_15[0][0]']          \n",
      "                                                                                                  \n",
      " res2a_branch1 (Conv2D)         (None, 7, 7, 256)    16640       ['max_pooling2d_2[0][0]']        \n",
      "                                                                                                  \n",
      " bn2a_branch2c (BatchNormalizat  (None, 1, 1, 256)   1024        ['res2a_branch2c[0][0]']         \n",
      " ion)                                                                                             \n",
      "                                                                                                  \n",
      " bn2a_branch1 (BatchNormalizati  (None, 7, 7, 256)   1024        ['res2a_branch1[0][0]']          \n",
      " on)                                                                                              \n",
      "                                                                                                  \n",
      " add_4 (Add)                    (None, 7, 7, 256)    0           ['bn2a_branch2c[0][0]',          \n",
      "                                                                  'bn2a_branch1[0][0]']           \n",
      "                                                                                                  \n",
      " activation_16 (Activation)     (None, 7, 7, 256)    0           ['add_4[0][0]']                  \n",
      "                                                                                                  \n",
      " res3b_branch2a (Conv2D)        (None, 7, 7, 64)     16448       ['activation_16[0][0]']          \n",
      "                                                                                                  \n",
      " bn3b_branch2a (BatchNormalizat  (None, 7, 7, 64)    256         ['res3b_branch2a[0][0]']         \n",
      " ion)                                                                                             \n",
      "                                                                                                  \n",
      " activation_17 (Activation)     (None, 7, 7, 64)     0           ['bn3b_branch2a[0][0]']          \n",
      "                                                                                                  \n",
      " res3b_branch2b (Conv2D)        (None, 1, 1, 64)     200768      ['activation_17[0][0]']          \n",
      "                                                                                                  \n",
      " bn3b_branch2b (BatchNormalizat  (None, 1, 1, 64)    256         ['res3b_branch2b[0][0]']         \n",
      " ion)                                                                                             \n",
      "                                                                                                  \n",
      " activation_18 (Activation)     (None, 1, 1, 64)     0           ['bn3b_branch2b[0][0]']          \n",
      "                                                                                                  \n",
      " res3b_branch2c (Conv2D)        (None, 1, 1, 256)    16640       ['activation_18[0][0]']          \n",
      "                                                                                                  \n",
      " res3b_branch1 (Conv2D)         (None, 7, 7, 256)    65792       ['activation_16[0][0]']          \n",
      "                                                                                                  \n",
      " bn3b_branch2c (BatchNormalizat  (None, 1, 1, 256)   1024        ['res3b_branch2c[0][0]']         \n",
      " ion)                                                                                             \n",
      "                                                                                                  \n",
      " bn3b_branch1 (BatchNormalizati  (None, 7, 7, 256)   1024        ['res3b_branch1[0][0]']          \n",
      " on)                                                                                              \n",
      "                                                                                                  \n",
      " add_5 (Add)                    (None, 7, 7, 256)    0           ['bn3b_branch2c[0][0]',          \n",
      "                                                                  'bn3b_branch1[0][0]']           \n",
      "                                                                                                  \n",
      " activation_19 (Activation)     (None, 7, 7, 256)    0           ['add_5[0][0]']                  \n",
      "                                                                                                  \n",
      " res4c_branch2a (Conv2D)        (None, 7, 7, 64)     16448       ['activation_19[0][0]']          \n",
      "                                                                                                  \n",
      " bn4c_branch2a (BatchNormalizat  (None, 7, 7, 64)    256         ['res4c_branch2a[0][0]']         \n",
      " ion)                                                                                             \n",
      "                                                                                                  \n",
      " activation_20 (Activation)     (None, 7, 7, 64)     0           ['bn4c_branch2a[0][0]']          \n",
      "                                                                                                  \n",
      " res4c_branch2b (Conv2D)        (None, 1, 1, 64)     200768      ['activation_20[0][0]']          \n",
      "                                                                                                  \n"
     ]
    },
    {
     "name": "stdout",
     "output_type": "stream",
     "text": [
      " bn4c_branch2b (BatchNormalizat  (None, 1, 1, 64)    256         ['res4c_branch2b[0][0]']         \n",
      " ion)                                                                                             \n",
      "                                                                                                  \n",
      " activation_21 (Activation)     (None, 1, 1, 64)     0           ['bn4c_branch2b[0][0]']          \n",
      "                                                                                                  \n",
      " res4c_branch2c (Conv2D)        (None, 1, 1, 64)     4160        ['activation_21[0][0]']          \n",
      "                                                                                                  \n",
      " res4c_branch1 (Conv2D)         (None, 7, 7, 64)     16448       ['activation_19[0][0]']          \n",
      "                                                                                                  \n",
      " bn4c_branch2c (BatchNormalizat  (None, 1, 1, 64)    256         ['res4c_branch2c[0][0]']         \n",
      " ion)                                                                                             \n",
      "                                                                                                  \n",
      " bn4c_branch1 (BatchNormalizati  (None, 7, 7, 64)    256         ['res4c_branch1[0][0]']          \n",
      " on)                                                                                              \n",
      "                                                                                                  \n",
      " add_6 (Add)                    (None, 7, 7, 64)     0           ['bn4c_branch2c[0][0]',          \n",
      "                                                                  'bn4c_branch1[0][0]']           \n",
      "                                                                                                  \n",
      " activation_22 (Activation)     (None, 7, 7, 64)     0           ['add_6[0][0]']                  \n",
      "                                                                                                  \n",
      " add_7 (Add)                    (None, 7, 7, 64)     0           ['activation_22[0][0]',          \n",
      "                                                                  'max_pooling2d_2[0][0]']        \n",
      "                                                                                                  \n",
      " activation_23 (Activation)     (None, 7, 7, 64)     0           ['add_7[0][0]']                  \n",
      "                                                                                                  \n",
      " flatten_1 (Flatten)            (None, 3136)         0           ['activation_23[0][0]']          \n",
      "                                                                                                  \n",
      " fc10 (Dense)                   (None, 10)           31370       ['flatten_1[0][0]']              \n",
      "                                                                                                  \n",
      "==================================================================================================\n",
      "Total params: 822,922\n",
      "Trainable params: 819,722\n",
      "Non-trainable params: 3,200\n",
      "__________________________________________________________________________________________________\n"
     ]
    }
   ],
   "source": [
    "# Create model\n",
    "model = Model(inputs=X_input, outputs=X, name='ResNet50')\n",
    "model.summary()"
   ]
  },
  {
   "cell_type": "code",
   "execution_count": 39,
   "id": "ee817df7",
   "metadata": {},
   "outputs": [
    {
     "name": "stdout",
     "output_type": "stream",
     "text": [
      "Epoch 1/10\n"
     ]
    },
    {
     "name": "stderr",
     "output_type": "stream",
     "text": [
      "/tmp/ipykernel_198407/1266801284.py:2: UserWarning: `Model.fit_generator` is deprecated and will be removed in a future version. Please use `Model.fit`, which supports generators.\n",
      "  model.fit_generator(train_generator, steps_per_epoch=50000//64, epochs=10, validation_data=val_generator, validation_steps=10000//64)\n"
     ]
    },
    {
     "name": "stdout",
     "output_type": "stream",
     "text": [
      "624/781 [======================>.......] - ETA: 6s - loss: 1.6866 - accuracy: 0.4200WARNING:tensorflow:Your input ran out of data; interrupting training. Make sure that your dataset or generator can generate at least `steps_per_epoch * epochs` batches (in this case, 7810 batches). You may need to use the repeat() function when building your dataset.\n",
      "781/781 [==============================] - 29s 35ms/step - loss: 1.6861 - accuracy: 0.4200 - val_loss: 1.5179 - val_accuracy: 0.4790\n"
     ]
    },
    {
     "data": {
      "text/plain": [
       "<keras.callbacks.History at 0x7f08c7cd08e0>"
      ]
     },
     "execution_count": 39,
     "metadata": {},
     "output_type": "execute_result"
    }
   ],
   "source": [
    "model.compile(loss='categorical_crossentropy', optimizer=Adam(), metrics=['accuracy'])\n",
    "model.fit_generator(train_generator, steps_per_epoch=50000//64, epochs=10, validation_data=val_generator, validation_steps=10000//64)"
   ]
  },
  {
   "cell_type": "code",
   "execution_count": 40,
   "id": "6ca0a9cc",
   "metadata": {},
   "outputs": [
    {
     "name": "stdout",
     "output_type": "stream",
     "text": [
      "313/313 [==============================] - 2s 5ms/step - loss: 1.5174 - accuracy: 0.4760\n"
     ]
    }
   ],
   "source": [
    "score = model.evaluate(X_test, Y_test)\n"
   ]
  },
  {
   "cell_type": "code",
   "execution_count": 41,
   "id": "de29c9a3",
   "metadata": {},
   "outputs": [
    {
     "data": {
      "text/plain": [
       "[1.5174087285995483, 0.47600001096725464]"
      ]
     },
     "execution_count": 41,
     "metadata": {},
     "output_type": "execute_result"
    }
   ],
   "source": [
    "score"
   ]
  },
  {
   "cell_type": "code",
   "execution_count": null,
   "id": "090fd270",
   "metadata": {},
   "outputs": [],
   "source": []
  }
 ],
 "metadata": {
  "kernelspec": {
   "display_name": "Python 3 (ipykernel)",
   "language": "python",
   "name": "python3"
  },
  "language_info": {
   "codemirror_mode": {
    "name": "ipython",
    "version": 3
   },
   "file_extension": ".py",
   "mimetype": "text/x-python",
   "name": "python",
   "nbconvert_exporter": "python",
   "pygments_lexer": "ipython3",
   "version": "3.9.12"
  }
 },
 "nbformat": 4,
 "nbformat_minor": 5
}
